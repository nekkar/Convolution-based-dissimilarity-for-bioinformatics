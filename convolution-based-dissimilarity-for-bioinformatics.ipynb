{
 "cells": [
  {
   "cell_type": "markdown",
   "metadata": {},
   "source": [
    "# Convolution-based dissimilarity for bioinformatics\n",
    "\n",
    "The notebook demonstrates computational efficiency and simplicity of the convolution-based dissimilarity in application to genomics.\n",
    "\n",
    "An outline of the notebook is as follow:\n",
    "\n",
    "- we start with introducing generic functions for comparing strings using FFT convolution (a known technique with a new twist),\n",
    "- we compare convolution-based dissimilarity properties to those of Levenshtein distance with simple computational experiments,\n",
    "- finally, we load sample data containing sequences for several coronaviruses and construct a phylogenetic tree for that set. "
   ]
  },
  {
   "cell_type": "markdown",
   "metadata": {},
   "source": [
    "## Standard imports\n",
    "\n",
    "See also requirements.txt for the complete information."
   ]
  },
  {
   "cell_type": "code",
   "execution_count": 1,
   "metadata": {},
   "outputs": [],
   "source": [
    "import os\n",
    "\n",
    "# The usual imports to compute and plot\n",
    "import numpy as np\n",
    "import pandas as pd\n",
    "import matplotlib.pyplot as plt\n",
    "import random\n",
    "%matplotlib inline"
   ]
  },
  {
   "cell_type": "markdown",
   "metadata": {},
   "source": [
    "## Strings encoding\n",
    "\n",
    "We construct a one-hot encoding of an input string into multiple channels.\n",
    "\n",
    "The input is a string (text, sequence - we use these terms interchangeably) in a finite alphabet. For genomics, the alphabet contains four symbols (A, C, G, T), but the approach applies to any finite alphabet. The output is a numpy binary array with dimensions (input length, alphabet size)."
   ]
  },
  {
   "cell_type": "code",
   "execution_count": 2,
   "metadata": {},
   "outputs": [],
   "source": [
    "# Indexing for mapping four binary sequences from a text in the alphabet {A, C, G, T}\n",
    "# Note that the order of the symbols defines the mapping to the \"channels\", i.e., rows in \n",
    "# the target numpy array.\n",
    "ALPHABET_ACGT = ['A', 'C', 'G', 'T']"
   ]
  },
  {
   "cell_type": "code",
   "execution_count": 3,
   "metadata": {},
   "outputs": [],
   "source": [
    "def encode_binary_channels(seq, alphabet=ALPHABET_ACGT):\n",
    "    \"\"\" Encode input text in the alphabet using one-hot encoding, \n",
    "    e.g., a string in {A, C, G, T} alphabet maps to a numpy array [4, Length]\n",
    "    where 1s encode symbols by channel. For that purpose, we fix the order \n",
    "    of symbols in the alphabet.\"\"\"\n",
    "    indexes = {sym: idx for idx, sym in enumerate(alphabet)}\n",
    "    arr = np.zeros((len(alphabet), len(seq)))\n",
    "    for ii, entry in enumerate(seq):\n",
    "        if entry in indexes:  # if not in the alphabet, the symbol becomes 0 in all channels \n",
    "            arr[indexes[entry], ii] = 1\n",
    "    return arr"
   ]
  },
  {
   "cell_type": "code",
   "execution_count": 4,
   "metadata": {},
   "outputs": [
    {
     "data": {
      "text/plain": [
       "array([[1., 0., 0., 0., 0., 0., 0., 1.],\n",
       "       [0., 1., 0., 0., 0., 0., 1., 0.],\n",
       "       [0., 0., 1., 0., 0., 1., 0., 0.],\n",
       "       [0., 0., 0., 1., 1., 0., 0., 0.]])"
      ]
     },
     "execution_count": 4,
     "metadata": {},
     "output_type": "execute_result"
    }
   ],
   "source": [
    "# A quick illustation of the output:\n",
    "encode_binary_channels('ACGTTGCA')"
   ]
  },
  {
   "cell_type": "markdown",
   "metadata": {},
   "source": [
    "## FFT utils\n",
    "\n",
    "In our approach, we use a comparison of binary sequences via convolution. It requires FFT for fast computation of polynomial multiplication. In this subsection, we define some useful utilities for that."
   ]
  },
  {
   "cell_type": "code",
   "execution_count": 5,
   "metadata": {},
   "outputs": [],
   "source": [
    "# FFT-based convolution utilities to simplify polynomials multiplication\n",
    "# Polynomials are defined via an array of their coefficients.\n",
    "# A comprehensive explanation of that technique can be found, e.g, here \n",
    "# http://www.cs.toronto.edu/~denisp/csc373/docs/tutorial3-adv-writeup.pdf\n",
    "\n",
    "def fft_poly_mult(arr_a, arr_b):\n",
    "    \"\"\" Takes in coefficients as numpy arrays or Python lists. \"\"\"\n",
    "    pad_to_length = len(arr_a) + len(arr_b) - 1\n",
    "    a_f = np.fft.fft(arr_a, pad_to_length)\n",
    "    b_f = np.fft.fft(arr_b, pad_to_length)\n",
    "    return np.real(np.fft.ifft(np.multiply(a_f,b_f)))\n",
    "\n",
    "def fft_poly_mult_int(arr_a, arr_b):\n",
    "    \"\"\" For our application, the result is expected to be integer.\n",
    "    Round the fft results to integers and cast to int.\"\"\"\n",
    "    return np.round(fft_poly_mult(arr_a, arr_b)).astype(int)"
   ]
  },
  {
   "cell_type": "markdown",
   "metadata": {},
   "source": [
    "In what follows, we consider only binary (0 and 1) coefficients of the polynomials."
   ]
  },
  {
   "cell_type": "code",
   "execution_count": 6,
   "metadata": {},
   "outputs": [
    {
     "name": "stdout",
     "output_type": "stream",
     "text": [
      "[0 1 1 2 1 1]\n"
     ]
    }
   ],
   "source": [
    "# An illustration:\n",
    "arr_a = [0, 1, 0, 1]\n",
    "arr_b = [1, 1, 1]\n",
    "a = np.array(arr_a, dtype=int)  # x + x^3\n",
    "b = np.array(arr_b, dtype=int)  # 1 + x + x^2\n",
    "ab = fft_poly_mult_int(a, b)\n",
    "print(ab)"
   ]
  },
  {
   "cell_type": "markdown",
   "metadata": {},
   "source": [
    "The **key observation** is that the cell result above shows the number of matches for the input sequences at different mutual shifts. That is the basis of the convolution-based method of comparing sequences."
   ]
  },
  {
   "cell_type": "markdown",
   "metadata": {},
   "source": [
    "## Normalization\n",
    "\n",
    "We introduce normalization to put the numerical results of the sequences comparison into the unit scale. \n",
    "\n",
    "We introduce the \"convolution of unities,\" which convolves sequences consisting only of 1s. It has a trapezoidal shape, and we use it as a denominator. Dividing by convolution of unity removes the trivial signal from the convolution of the binary sequences."
   ]
  },
  {
   "cell_type": "code",
   "execution_count": 7,
   "metadata": {},
   "outputs": [],
   "source": [
    "def normalized_binary_convolution(arr_a, arr_b):\n",
    "    \"\"\" Scales the convolution of unity by the count of max possible matches between sequences.\"\"\"\n",
    "    sum_a = np.sum(arr_a)\n",
    "    sum_b = np.sum(arr_b)\n",
    "    max_expected_match = max(sum_a, sum_b)\n",
    "    assert max_expected_match > 0, \"Both inputs are const zero.\"\n",
    "    ab = fft_poly_mult_int(arr_a, arr_b)\n",
    "    return ab/max_expected_match"
   ]
  },
  {
   "cell_type": "code",
   "execution_count": 8,
   "metadata": {},
   "outputs": [
    {
     "name": "stdout",
     "output_type": "stream",
     "text": [
      "Compare to the unnormalized result:\n",
      "[0.         0.33333333 0.33333333 0.66666667 0.33333333 0.33333333]\n"
     ]
    },
    {
     "data": {
      "image/png": "[encoded data removed]",
      "text/plain": [
       "<Figure size 432x288 with 1 Axes>"
      ]
     },
     "metadata": {
      "needs_background": "light"
     },
     "output_type": "display_data"
    }
   ],
   "source": [
    "# A quick spot-check; compare to the output of a cell above with the same inputs.\n",
    "res = normalized_binary_convolution(arr_a, arr_b)\n",
    "print('Compare to the unnormalized result:')\n",
    "print(res)\n",
    "\n",
    "# Plot the \"signal\" of strings matching.\n",
    "fig = plt.figure()\n",
    "ax = plt.axes()\n",
    "ax.plot(range(len(res)), res)\n",
    "ax.set_ylabel('Signal')\n",
    "ax.set_xlabel('Shift')\n",
    "plt.title('Normalized match signal for binary inputs\\ncorresponding to mulitplication of $x+x^3$ and $1+x+x^2$')\n",
    "plt.savefig('binary_inputs_normalized_signal.pdf')\n",
    "plt.show()\n"
   ]
  },
  {
   "cell_type": "markdown",
   "metadata": {},
   "source": [
    "## Strings convolution\n",
    "\n",
    "Using strings encoding into binary sequences and convolution-based comparison, we build tools for comparing strings via convolution."
   ]
  },
  {
   "cell_type": "code",
   "execution_count": 9,
   "metadata": {},
   "outputs": [],
   "source": [
    "# A utility for ensuring correctness of the input to strings convolution. \n",
    "# We require that both strings contain all symbols from the alphabet. \n",
    "# In particular, the inputs are not empty.\n",
    "def validate_convolution_input(seq1, seq2, alphabet):\n",
    "    assert len(seq1) > 0 and len(seq2) > 0, \"Can't convolve empty string.\"\n",
    "    num_symbols = len(alphabet)\n",
    "    assert num_symbols > 1, \"Passed in alphabet must contain at least two symbols.\"\n",
    "    # Is the passed in alphabet redundants? i.e., is it the same as the alphabet present in seq1 and seq2?\n",
    "    # That will result in zero channels, throwing off normalization.\n",
    "    actual_alphabet = set(seq1 + seq2)\n",
    "    intresection_len = len(actual_alphabet.intersection(alphabet))\n",
    "    assert intresection_len == num_symbols, \"The passed in alphabet and the joint sequences alphabet are different.\"\n",
    "    return num_symbols"
   ]
  },
  {
   "cell_type": "code",
   "execution_count": 10,
   "metadata": {},
   "outputs": [],
   "source": [
    "# Computes normalized number of matches of two input string at different mutual alignments.\n",
    "def convolve_strings(seq1, seq2, alphabet=ALPHABET_ACGT):\n",
    "    num_symbols = validate_convolution_input(seq1, seq2, alphabet)\n",
    "    indexes = {sym: idx for idx, sym in enumerate(alphabet)}\n",
    "    arr1 = encode_binary_channels(seq1[::-1], indexes)  # invert one of them\n",
    "    arr2 = encode_binary_channels(seq2, indexes)\n",
    "    res = []\n",
    "    for channels in zip(arr1, arr2):\n",
    "        ch1, ch2 = channels\n",
    "        conv = normalized_binary_convolution(ch1, ch2)\n",
    "        res.append(conv)\n",
    "    return np.sum(res, axis=0)/num_symbols"
   ]
  },
  {
   "cell_type": "markdown",
   "metadata": {},
   "source": [
    "The key observation stated earlier suggests that convolution provides an efficient tool for detecting matches when strings are superimposed one over the other. We provide some illustrations next."
   ]
  },
  {
   "cell_type": "code",
   "execution_count": 11,
   "metadata": {},
   "outputs": [
    {
     "data": {
      "image/png": "[encoded data removed]",
      "text/plain": [
       "<Figure size 432x288 with 1 Axes>"
      ]
     },
     "metadata": {
      "needs_background": "light"
     },
     "output_type": "display_data"
    }
   ],
   "source": [
    "# An illustration of detecting matches with identical inputs strings at different mutual shifts\n",
    "alphabet = ['X', 'Y']\n",
    "\n",
    "# Test strings:\n",
    "s1 = 'X'*1000 + 'Y'\n",
    "res1 = convolve_strings(s1, s1, alphabet)  # A trivial case of identical imputs\n",
    "\n",
    "# Plot the \"signal\" of strings matching.\n",
    "fig = plt.figure()\n",
    "ax = plt.axes()\n",
    "ax.plot(range(len(res1)), res1)\n",
    "ax.set_ylabel('Normalized match signal')\n",
    "ax.set_xlabel('Shift')\n",
    "plt.title('A string self-comparison with normalized convolution')\n",
    "plt.savefig('string_self_comparison.pdf')\n",
    "plt.show()"
   ]
  },
  {
   "cell_type": "code",
   "execution_count": 12,
   "metadata": {},
   "outputs": [
    {
     "name": "stdout",
     "output_type": "stream",
     "text": [
      "Normalized matches at different overlaps:\n",
      "[0.         0.08333333 0.         0.08333333 0.08333333 0.125\n",
      " 0.79166667 0.25       0.         0.08333333 0.         0.\n",
      " 0.        ]\n"
     ]
    }
   ],
   "source": [
    "# Single edit in the input string. See also the plot in the next cell.\n",
    "str_a = 'GATTACA'\n",
    "str_b = 'GATTACC'\n",
    "res = convolve_strings(str_a, str_b)\n",
    "print('Normalized matches at different overlaps:')\n",
    "print(res)\n",
    "# The values can be verified using brute force."
   ]
  },
  {
   "cell_type": "code",
   "execution_count": 13,
   "metadata": {},
   "outputs": [
    {
     "data": {
      "image/png": "[encoded data removed]",
      "text/plain": [
       "<Figure size 432x288 with 1 Axes>"
      ]
     },
     "metadata": {
      "needs_background": "light"
     },
     "output_type": "display_data"
    }
   ],
   "source": [
    "# Plot the output of strings convolution (i.e., matching at different shifts). \n",
    "fig = plt.figure()\n",
    "ax = plt.axes()\n",
    "ax.plot(range(len(res)), res)\n",
    "ax.set_ylabel('Normalized convolution (match signal)')\n",
    "ax.set_xlabel('Shift')\n",
    "plt.title('Normalized match signal\\nfor strings \"GATTACA\" and \"GATTACC\"')\n",
    "plt.savefig('GATTACAx2.pdf')\n",
    "plt.show()"
   ]
  },
  {
   "cell_type": "markdown",
   "metadata": {},
   "source": [
    "## Normalized best-match value as a measure of strings similarity\n",
    "\n",
    "It is helpful to extract a single number characterizing the similarity of two strings. We use the max of the normalized convolution as a measure of similarity. It is easy to see that self-similarity equals 1 for a string of any length."
   ]
  },
  {
   "cell_type": "code",
   "execution_count": 14,
   "metadata": {},
   "outputs": [],
   "source": [
    "def strings_max_of_fft_similarity(seq1, seq2, alphabet=ALPHABET_ACGT):\n",
    "    validate_convolution_input(seq1, seq2, alphabet)\n",
    "    res = convolve_strings(seq1, seq2, alphabet)\n",
    "    return np.max(res)"
   ]
  },
  {
   "cell_type": "code",
   "execution_count": 15,
   "metadata": {},
   "outputs": [
    {
     "data": {
      "text/plain": [
       "1.0"
      ]
     },
     "execution_count": 15,
     "metadata": {},
     "output_type": "execute_result"
    }
   ],
   "source": [
    "# Spot-check: a string has self-similarity = 1\n",
    "strings_max_of_fft_similarity(s1, s1, alphabet)"
   ]
  },
  {
   "cell_type": "markdown",
   "metadata": {},
   "source": [
    "## Dissimilarity constructed from normalized best match\n",
    "\n",
    "For clustering and phylogenetic trees construction in bioinformatics, we need a metric that is the opposite of similarity. There are many ways of constructing it. A simlpe way of doing that is: \n",
    "\n",
    "$$\\delta(a, b) = \\frac{1}{\\beta(a, b)} - 1$$\n",
    "\n",
    "where $\\beta(a, b)$ is the best match of strings $a$ and $b$ introduced above. "
   ]
  },
  {
   "cell_type": "code",
   "execution_count": 16,
   "metadata": {},
   "outputs": [],
   "source": [
    "def strings_max_fft_diff(seq1, seq2, alphabet=ALPHABET_ACGT):\n",
    "    return 1.0/strings_max_of_fft_similarity(seq1, seq2, alphabet) - 1.0"
   ]
  },
  {
   "cell_type": "markdown",
   "metadata": {},
   "source": [
    "The proposed quantity has these easily verifiable properties: \n",
    "\n",
    "* it is symmetric $\\delta(a, b) = \\delta(b, a)$\n",
    "* it equals zero for the identical arguments: $\\delta(a,a)=0$, i.e. dissimilarity of $a$ to itself is 0.\n",
    "\n",
    "The introduced **convolution dissimilarity** has lots of commonalities with Hamming distance. Unfortunately, as we define it, it is not a distance. It fails triangle inequality, which we show next with a counterexample. "
   ]
  },
  {
   "cell_type": "code",
   "execution_count": 38,
   "metadata": {},
   "outputs": [
    {
     "name": "stdout",
     "output_type": "stream",
     "text": [
      "0.33333333333333326 0.33333333333333326 1.0\n",
      "Triangle inequality fails\n"
     ]
    }
   ],
   "source": [
    "# These three strings fail triangle inequality:\n",
    "a = 'ab' \n",
    "b = 'aba' \n",
    "c = 'ba'\n",
    "ab = strings_max_fft_diff(a, b, alphabet=['a','b'])\n",
    "bc = strings_max_fft_diff(b, c, alphabet=['a','b'])\n",
    "ca = strings_max_fft_diff(c, a, alphabet=['a','b'])\n",
    "\n",
    "print(ab, bc, ca)\n",
    "if ab + bc < ca: \n",
    "    print('Triangle inequality fails')"
   ]
  },
  {
   "cell_type": "markdown",
   "metadata": {},
   "source": [
    "Failing triangle inequality appears to be solely an artifact of different input (sub)strings lengths and maximizing across all mutual alignments. Opposite to that, Hamming distance defines the dissimilarity of sequences of the same dimensionality at a single alignment.\n",
    "\n",
    "Despite that, the proposed **convolution dissimilarity** is useful as it grows monotonously with the Levenshtein distance, as we show next."
   ]
  },
  {
   "cell_type": "markdown",
   "metadata": {},
   "source": [
    "## Some string utilities\n",
    "\n",
    "In this technical section, we define some simple string utilities that we use to explore the convolution-based comparison properties."
   ]
  },
  {
   "cell_type": "code",
   "execution_count": 18,
   "metadata": {},
   "outputs": [],
   "source": [
    "def random_string(length, alphabet=ALPHABET_ACGT):\n",
    "    \"\"\" Generates a string with the uniform distribution of symbols from the provided alphabet. \"\"\"\n",
    "    return \"\".join(random.choice(alphabet) for ii in range(length))"
   ]
  },
  {
   "cell_type": "code",
   "execution_count": 19,
   "metadata": {},
   "outputs": [],
   "source": [
    "# A random mutation of a string preserving its length\n",
    "def mutate_string(s, alphabet=ALPHABET_ACGT):\n",
    "    \"\"\" With equal probabilities, the function: \n",
    "    - flips a symbol at a random position, \n",
    "    - inserts a random symbols, or \n",
    "    - deletes one while adding one at the tail or at the head of the string metated string. \n",
    "    \"\"\"\n",
    "    length = len(s)\n",
    "    rand = random.random()\n",
    "    if rand > 2/3:  # flip a symbol\n",
    "        pos = random.randint(0, length - 1)\n",
    "        res = s[:pos] + random.choice(alphabet) + s[pos+1:]\n",
    "        return res\n",
    "    elif rand > 1/3: # deletion\n",
    "        pos = random.randint(0, length - 1)\n",
    "        res = s[:pos] + s[pos + 1:]\n",
    "        if random.random() > 0.5:\n",
    "            res = res + random.choice(alphabet)\n",
    "        else:\n",
    "            res = random.choice(alphabet) + res\n",
    "        return res\n",
    "    else: # insertion\n",
    "        pos = random.randint(0, length - 1)\n",
    "        res = s[:pos] + random.choice(alphabet) + s[pos:-1]\n",
    "        return res"
   ]
  },
  {
   "cell_type": "code",
   "execution_count": 20,
   "metadata": {},
   "outputs": [
    {
     "name": "stdout",
     "output_type": "stream",
     "text": [
      "7 GATTACA\n",
      "7 TGATACA\n"
     ]
    }
   ],
   "source": [
    "# A quick illustration and a spot-check:\n",
    "s0 ='GATTACA'\n",
    "s1 = mutate_string(s0)\n",
    "print(len(s0), s0)\n",
    "print(len(s1), s1)"
   ]
  },
  {
   "cell_type": "markdown",
   "metadata": {},
   "source": [
    "### The convolution dissimilarity is a (nonlinear) proxy for Levenshtein distance"
   ]
  },
  {
   "cell_type": "markdown",
   "metadata": {},
   "source": [
    "A direct comparison with Levenshtein distance is a simple computational experiment. We run it using the standard implementation from the Python Levenshtein package."
   ]
  },
  {
   "cell_type": "code",
   "execution_count": 21,
   "metadata": {},
   "outputs": [
    {
     "name": "stdout",
     "output_type": "stream",
     "text": [
      "0 time elapsed (sec): 0\n",
      "100 time elapsed (sec): 45\n",
      "200 time elapsed (sec): 89\n",
      "300 time elapsed (sec): 134\n",
      "400 time elapsed (sec): 178\n",
      "500 time elapsed (sec): 222\n",
      "600 time elapsed (sec): 267\n",
      "700 time elapsed (sec): 312\n",
      "800 time elapsed (sec): 356\n",
      "900 time elapsed (sec): 400\n",
      "1000 time elapsed (sec): 445\n",
      "Total time = 456 sec\n",
      "Done.\n"
     ]
    }
   ],
   "source": [
    "import time\n",
    "from collections import defaultdict\n",
    "from Levenshtein import distance as levenshtein_distance\n",
    "\n",
    "TEST_STR_LEN = 512  # fix the length of the test strings\n",
    "\n",
    "# Collect Levenshtein distances and convolution dissimilarities \n",
    "# for the same strings obtained by random mutations.\n",
    "pairs_lev_conv = defaultdict(list)\n",
    "\n",
    "t0 = time.time()\n",
    "for jj in range(1024):\n",
    "    if jj % 100 == 0:\n",
    "        print(jj, 'time elapsed (sec):', int(time.time() - t0))\n",
    "    # Fix the string s0 from which we compute mutations:\n",
    "    s0 = random_string(TEST_STR_LEN)   \n",
    "    # Both values below are zeros (no mutations yet), we're keeping these for completness\n",
    "    lev_dist = levenshtein_distance(s0, s0)\n",
    "    pairs_lev_conv[lev_dist].append(strings_max_fft_diff(s0, s0))\n",
    "    s1 = s0\n",
    "    for ii in range(400):\n",
    "        s2 = mutate_string(s1)\n",
    "        lev_dist = levenshtein_distance(s0, s2)\n",
    "        pairs_lev_conv[lev_dist].append(strings_max_fft_diff(s0, s2))\n",
    "        s1 = s2\n",
    "print('Total time =', int(time.time() - t0), 'sec')\n",
    "print('Done.')"
   ]
  },
  {
   "cell_type": "code",
   "execution_count": 22,
   "metadata": {},
   "outputs": [
    {
     "data": {
      "image/png": "[encoded data removed]",
      "text/plain": [
       "<Figure size 576x288 with 1 Axes>"
      ]
     },
     "metadata": {
      "needs_background": "light"
     },
     "output_type": "display_data"
    }
   ],
   "source": [
    "# Visualize convolution dissimilarity against Levenshtein distance.\n",
    "SCALE = 10\n",
    "\n",
    "lev_dists, means, stdevs = zip(*sorted([(key, np.mean(val), np.std(val)) for key, val in pairs_lev_conv.items()]))\n",
    "lower = np.array(means) - np.array(stdevs)\n",
    "upper = np.array(means) + np.array(stdevs)\n",
    "\n",
    "fig = plt.figure(figsize=(8, 4))\n",
    "ax = plt.axes()\n",
    "\n",
    "SLICE = 280  # The tail is noiser due to fewer samples but sgma is smaller\n",
    "\n",
    "ax.plot(lev_dists[:SLICE], means[:SLICE], linewidth=2, label='Convolution dissimilarity')\n",
    "ax.plot(lev_dists[:SLICE], lower[:SLICE], linestyle='dashed', color='grey', label='$\\pm$ standard deviation')\n",
    "ax.plot(lev_dists[:SLICE], upper[:SLICE], linestyle='dashed', color='grey')\n",
    "ax.fill_between(lev_dists[:SLICE], lower[:SLICE], upper[:SLICE], facecolor='grey', alpha=0.15)\n",
    "\n",
    "ax.set_ylabel('Convolution dissimilarity')\n",
    "ax.set_xlabel('Levenshtein distance')\n",
    "plt.legend()\n",
    "plt.title('Convolution dissimilarity vs. Levenshtein distance for random edits (string length=512)')\n",
    "plt.tight_layout()\n",
    "plt.savefig('distance_compare.pdf')\n",
    "plt.show()"
   ]
  },
  {
   "cell_type": "markdown",
   "metadata": {},
   "source": [
    "The computational experiment above suggests that the introduced dissimilarity is a reasonable proxy for Levenshtein distance (and the number of edits/mutations). We may consider using it instead of Levenshtein distance in some applications where the input is too long for other algorithms. One possible example is constructing phylogenetic trees discussed next. "
   ]
  },
  {
   "cell_type": "markdown",
   "metadata": {},
   "source": [
    "## Application to phylogenetic trees in genomics\n",
    "\n",
    "We use several coronaviruses to demonstrate the application of the proposed convolution dissimilarity. The coronavirus data is available in open access. We use it in FASTA format.\n",
    "\n",
    "### Loading genomes data with Biopython"
   ]
  },
  {
   "cell_type": "code",
   "execution_count": 23,
   "metadata": {},
   "outputs": [],
   "source": [
    "from Bio import SeqIO"
   ]
  },
  {
   "cell_type": "code",
   "execution_count": 24,
   "metadata": {},
   "outputs": [
    {
     "name": "stdout",
     "output_type": "stream",
     "text": [
      "NC_048217.1 Murine hepatitis virus strain A59, complete genome\n",
      "NC_048216.1 NL63-related bat coronavirus strain BtKYNL63-9b, complete genome\n",
      "NC_048214.1 Duck coronavirus isolate DK/GD/27/2014, complete genome\n",
      "NC_048213.1 Infectious bronchitis virus isolate Ind-TN92-03, complete genome\n",
      "NC_046965.1 Canada goose coronavirus strain Cambridge_Bay_2017, complete genome\n",
      "NC_045512.2 Severe acute respiratory syndrome coronavirus 2 isolate Wuhan-Hu-1, complete genome\n",
      "NC_032730.1 Lucheng Rn rat coronavirus isolate Lucheng-19, complete genome\n",
      "NC_034440.1 Bat coronavirus isolate PREDICT/PDF-2180, complete genome\n",
      "NC_006213.1 Human coronavirus OC43 strain ATCC VR-759, complete genome\n",
      "NC_034972.1 Coronavirus AcCoV-JC34, complete genome\n",
      "NC_039207.1 Betacoronavirus Erinaceus/VMC/DEU/2012 isolate ErinaceusCoV/2012-174/GER/2012, complete genome\n",
      "NC_038861.1 Transmissible gastroenteritis virus complete genome, genomic RNA\n",
      "NC_038294.1 Betacoronavirus England 1 isolate H123990006, complete genome\n",
      "NC_011547.1 Bulbul coronavirus HKU11-934, complete genome\n",
      "NC_032107.1 NL63-related bat coronavirus strain BtKYNL63-9a, complete genome\n",
      "NC_030886.1 Rousettus bat coronavirus isolate GCCDC1 356, complete genome\n",
      "NC_030292.1 Ferret coronavirus isolate FRCoV-NL-2010, complete genome\n",
      "NC_028833.1 BtNv-AlphaCoV/SC2013, complete genome\n",
      "NC_028824.1 BtRf-AlphaCoV/YN2012, complete genome\n",
      "NC_028814.1 BtRf-AlphaCoV/HuB2013, complete genome\n",
      "NC_028811.1 BtMr-AlphaCoV/SAX2011, complete genome\n",
      "NC_028806.1 Swine enteric coronavirus strain Italy/213306/2009, complete genome\n",
      "NC_028752.1 Camel alphacoronavirus isolate camel/Riyadh/Ry141/2015, complete genome\n",
      "NC_026011.1 Betacoronavirus HKU24 strain HKU24-R05005I, complete genome\n",
      "NC_025217.1 Bat Hp-betacoronavirus/Zhejiang2013, complete genome\n",
      "NC_019843.3 Middle East respiratory syndrome-related coronavirus isolate HCoV-EMC/2012, complete genome\n",
      "NC_023760.1 Mink coronavirus strain WD1127, complete genome\n",
      "AC_000192.1 Murine hepatitis virus strain JHM, complete genome\n",
      "NC_022103.1 Bat coronavirus CDPHE15/USA/2006, complete genome\n",
      "NC_018871.1 Rousettus bat coronavirus HKU10, complete genome\n",
      "NC_017083.1 Rabbit coronavirus HKU14, complete genome\n",
      "NC_016992.1 Sparrow coronavirus HKU17, complete genome\n",
      "NC_016991.1 White-eye coronavirus HKU16, complete genome\n",
      "NC_016996.1 Common-moorhen coronavirus HKU21, complete genome\n",
      "NC_016995.1 Wigeon coronavirus HKU20, complete genome\n",
      "NC_016994.1 Night-heron coronavirus HKU19, complete genome\n",
      "NC_016993.1 Magpie-robin coronavirus HKU18, complete genome\n",
      "NC_002306.3 Feline infectious peritonitis virus, complete genome\n",
      "NC_012936.1 Rat coronavirus Parker, complete genome\n",
      "NC_011550.1 Munia coronavirus HKU13-3514, complete genome\n",
      "NC_011549.1 Thrush coronavirus HKU12-600, complete genome\n",
      "NC_010800.1 Turkey coronavirus, complete genome\n",
      "NC_010646.1 Beluga Whale coronavirus SW1, complete genome\n",
      "NC_010438.1 Bat coronavirus HKU8, complete genome\n",
      "NC_010437.1 Bat coronavirus 1A, complete genome\n",
      "NC_009988.1 Bat coronavirus HKU2, complete genome\n",
      "NC_009657.1 Scotophilus bat coronavirus 512, complete genome\n",
      "NC_009021.1 Rousettus bat coronavirus HKU9, complete genome\n",
      "NC_009020.1 Pipistrellus bat coronavirus HKU5, complete genome\n",
      "NC_009019.1 Tylonycteris bat coronavirus HKU4, complete genome\n",
      "NC_006577.2 Human coronavirus HKU1, complete genome\n",
      "NC_005831.2 Human Coronavirus NL63, complete genome\n",
      "NC_004718.3 SARS coronavirus Tor2, complete genome\n",
      "NC_003436.1 Porcine epidemic diarrhea virus, complete genome\n",
      "NC_003045.1 Bovine coronavirus isolate BCoV-ENT, complete genome\n",
      "NC_002645.1 Human coronavirus 229E, complete genome\n",
      "NC_001846.1 Murine hepatitis virus strain MHV-A59 C12 mutant, complete genome\n",
      "NC_001451.1 Avian infectious bronchitis virus, complete genome\n",
      "KX432213.1 Canine respiratory coronavirus strain BJ232, complete genome\n",
      "JX860640.1 Canine respiratory coronavirus strain K37, complete genome\n",
      "MT121216.1 Pangolin coronavirus isolate MP789, complete genome\n",
      "MT040336.1 Pangolin coronavirus isolate PCoV_GX-P5E, complete genome\n",
      "NC_039208.1 Porcine coronavirus HKU15 strain HKU15-155, complete genome\n",
      "bat/Yunnan/RaTG13/2013\n",
      "Beijing/IVDC-01-06/2020\n",
      "Beijing/IVDC-02-06/2020\n",
      "env/Beijing/IVDC-03-06/2020\n",
      "NC_046964.1 Alphacoronavirus Bat-CoV/P.kuhlii/Italy/3398-19/2015, complete genome\n",
      "NC_014470.1 Bat coronavirus BM48-31/BGR/2008, complete genome\n",
      "KF793826.1 Bottlenose dolphin coronavirus HKU22 isolate CF090331, complete genome\n",
      "MK423877.1 Pheasant coronavirus strain gammaCoV/ph/China/I0623/17, complete genome\n",
      "MH532440.1 Quail deltacoronavirus strain G032/2015, complete genome\n",
      "LC364342.1 Falcon coronavirus UAE-HKU27 988F genomic RNA, complete genome\n",
      "MH810163.1 Yak coronavirus strain YAK/HY24/CH/2017, complete genome\n",
      "JQ410000.1 Alpaca respiratory coronavirus isolate CA08-1/2008, complete genome\n",
      "LC364343.1 Houbara coronavirus UAE-HKU28 285F genomic RNA, complete genome\n",
      "Found 76 valid records.\n"
     ]
    }
   ],
   "source": [
    "fname = '76genomes.fasta'\n",
    "fasta_records = SeqIO.parse(fname, \"fasta\")\n",
    "\n",
    "genomes = {}\n",
    "valid_records = 0\n",
    "for record in fasta_records:\n",
    "    # print(record.id)\n",
    "    symbols = set(record.seq)\n",
    "    # Some checks that could be useful for custom data:\n",
    "    # if len(symbols) != 4:\n",
    "    #    print(record.id, 'contains more than four unique symbols in the sequence:', symbols)\n",
    "        # continue - keep going, we will replace stray symbols with all 0s later. \n",
    "    genomes[record.id] = record\n",
    "    print(record.description)\n",
    "    valid_records += 1\n",
    "# print(f'Found {len(genomes)} records.')\n",
    "# print(genomes.keys())\n",
    "print('Found', valid_records, 'valid records.')"
   ]
  },
  {
   "cell_type": "code",
   "execution_count": 25,
   "metadata": {},
   "outputs": [
    {
     "name": "stdout",
     "output_type": "stream",
     "text": [
      "TGA ... CTT\n",
      "[[0. 0. 1. ... 0. 0. 0.]\n",
      " [0. 0. 0. ... 1. 0. 0.]\n",
      " [0. 1. 0. ... 0. 0. 0.]\n",
      " [1. 0. 0. ... 0. 1. 1.]]\n"
     ]
    }
   ],
   "source": [
    "# A spot-check and another illustration of encoding:\n",
    "seq = genomes['NC_048216.1'].seq\n",
    "print(seq[:3], '...', seq[-3:])\n",
    "arr = encode_binary_channels(seq)\n",
    "print(arr)"
   ]
  },
  {
   "cell_type": "code",
   "execution_count": 26,
   "metadata": {},
   "outputs": [
    {
     "name": "stdout",
     "output_type": "stream",
     "text": [
      "NC_001451.1\t<-> NC_002306.3\t\t2.61\n",
      "random\t\t<-> NC_002306.3\t\t3.55\n",
      "random\t\t<-> NC_001451.1\t\t3.42\n",
      "random\t\t<-> random\t\t2.92\n"
     ]
    }
   ],
   "source": [
    "# Test dissimilarity on two sequences \"in the wild\"\n",
    "v1 = 'NC_001451.1'\n",
    "v2 = 'NC_002306.3'\n",
    "s1 = genomes[v1].seq\n",
    "s2 = genomes[v2].seq\n",
    "s0 = random_string(min(len(s1), len(s2)))\n",
    "dist12 = strings_max_fft_diff(s1, s2)\n",
    "print('%s\\t<-> %s\\t\\t%2.2f' % (v1, v2, dist12))\n",
    "dist02 = strings_max_fft_diff(s0, s2)\n",
    "print('random\\t\\t<-> %s\\t\\t%2.2f' % (v2, dist02))\n",
    "dist01 = strings_max_fft_diff(s0, s1)\n",
    "print('random\\t\\t<-> %s\\t\\t%2.2f' % (v1, dist01))\n",
    "s00 = random_string(min(len(s1), len(s2)))\n",
    "dist00 = strings_max_fft_diff(s0, s00)\n",
    "print('random\\t\\t<-> random\\t\\t%2.2f' % dist00)"
   ]
  },
  {
   "cell_type": "markdown",
   "metadata": {},
   "source": [
    "The dissimilarities computed in the cell above show that the sequences for viruses are much more similar than random ones. Two random strings are more alike than a random string and a virus. The lower value for dissimilarity shows that the two sequences have structures with lots in common."
   ]
  },
  {
   "cell_type": "markdown",
   "metadata": {},
   "source": [
    "## Genomes pair-wise dissimilarities\n",
    "\n",
    "To move to our main application (phylogenetic tree construction), we need to compute pair-wise dissimilarities for the coronaviruses from the set at hand."
   ]
  },
  {
   "cell_type": "code",
   "execution_count": 27,
   "metadata": {},
   "outputs": [
    {
     "name": "stdout",
     "output_type": "stream",
     "text": [
      "Processing 76 genomes\n",
      "total_pairs= 2926\n",
      "Completed 0 percent. 402 seconds remain.\n",
      "Completed 8 percent. 384 seconds remain.\n",
      "Completed 17 percent. 346 seconds remain.\n",
      "Completed 26 percent. 307 seconds remain.\n",
      "Completed 34 percent. 267 seconds remain.\n",
      "Completed 43 percent. 232 seconds remain.\n",
      "Completed 52 percent. 196 seconds remain.\n",
      "Completed 61 percent. 159 seconds remain.\n",
      "Completed 69 percent. 123 seconds remain.\n",
      "Completed 78 percent. 87 seconds remain.\n",
      "Completed 87 percent. 51 seconds remain.\n",
      "Completed 96 percent. 15 seconds remain.\n",
      "Completed in 412 seconds.\n"
     ]
    }
   ],
   "source": [
    "# Computing pair-wise dissimilarities.\n",
    "\n",
    "names = list(genomes.keys())\n",
    "num_names = len(names)\n",
    "print('Processing %d genomes' % num_names)\n",
    "\n",
    "t0 = time.time()\n",
    "distances = np.zeros((num_names, num_names))\n",
    "counter = 0\n",
    "total_pairs = int(len(names)*(len(names) + 1)/2)\n",
    "print('total_pairs=', total_pairs)\n",
    "for ii, name1 in enumerate(sorted(names)):\n",
    "    seq1 = genomes[name1].seq\n",
    "    for jj, name2 in enumerate(sorted(names)):\n",
    "        if jj > ii:  # distances are symmetric\n",
    "            break\n",
    "        counter += 1\n",
    "        percentage = int(100*counter/total_pairs)\n",
    "        if counter % 256 == 0 or counter == 10:\n",
    "            dt = time.time() - t0\n",
    "            time_remaining = dt * (total_pairs - counter)/counter\n",
    "            print('Completed %d percent. %d seconds remain.' % (percentage, int(time_remaining)))\n",
    "        seq2 = genomes[name2].seq\n",
    "        dist12 = strings_max_fft_diff(seq1, seq2)\n",
    "        distances[ii, jj] = dist12\n",
    "        distances[jj, ii] = dist12\n",
    "t1 = time.time()\n",
    "print('Completed in %d seconds.' % int(t1 - t0))"
   ]
  },
  {
   "cell_type": "code",
   "execution_count": 28,
   "metadata": {},
   "outputs": [
    {
     "name": "stdout",
     "output_type": "stream",
     "text": [
      "Saved matrix to file: dissimilarities_76x76.csv\n"
     ]
    }
   ],
   "source": [
    "def save_dissimilarities_matrix(distances, fname):\n",
    "    lines = []\n",
    "    for ii, name1 in enumerate(sorted(names)):\n",
    "        key1 = genomes[name1].id\n",
    "        for jj, name2 in enumerate(sorted(names)):\n",
    "            key2 = genomes[name2].id\n",
    "            d = distances[ii, jj]\n",
    "            line = \"%s,%s,%f\" %(key1, key2, d)\n",
    "            lines.append(line + '\\n')\n",
    "    # print(lines[:3])\n",
    "    # print(lines[-3:])\n",
    "    with open(fname, 'w') as outfile:\n",
    "        outfile.writelines(lines)\n",
    "fname = 'dissimilarities_76x76.csv'\n",
    "save_dissimilarities_matrix(distances, fname)\n",
    "print('Saved matrix to file: %s' % fname)"
   ]
  },
  {
   "cell_type": "markdown",
   "metadata": {},
   "source": [
    "## Clustering and tree construction\n",
    "\n",
    "With the dissimilarities matrix, we can construct a corresponding phylogenetic tree using AgglomerativeClustering from scikit-learn."
   ]
  },
  {
   "cell_type": "code",
   "execution_count": 29,
   "metadata": {
    "scrolled": true
   },
   "outputs": [],
   "source": [
    "# Using AgglomerativeClustering to generate a tree in the Newick format \n",
    "# (see, e.g., https://evolution.genetics.washington.edu/phylip/newicktree.html).\n",
    "# We can model Newick format as a nested dictionary then convert the structure to a string. \n",
    "# The values in the dictionary are lengths of edges. For this test all of them are of unit length.\n",
    "from collections import defaultdict\n",
    "from sklearn.cluster import AgglomerativeClustering\n",
    "names = list(sorted(genomes.keys()))\n",
    "root_to_leaves_paths = {name: [] for name in names}  # paths in the tree\n",
    "\n",
    "for n_clus in range(2, 76, 1):\n",
    "    cluster = AgglomerativeClustering(affinity='precomputed', linkage='single', n_clusters=n_clus)\n",
    "    model = cluster.fit(distances)\n",
    "    for ii, name in enumerate(names):\n",
    "        root_to_leaves_paths[name].append(model.labels_[ii])\n"
   ]
  },
  {
   "cell_type": "code",
   "execution_count": 30,
   "metadata": {},
   "outputs": [],
   "source": [
    "# Constructing the tree for plotting.\n",
    "# An alternative approach: \n",
    "# https://stackoverflow.com/questions/35490371/how-to-visualize-dendrogram-a-dictionary-of-hierarchical-items\n",
    "\n",
    "def attach(leaf_name, branch, parent):\n",
    "    \"\"\" We can still assume an euqal depth for each path, \n",
    "    will eliminate that assumption in our future work. \"\"\"\n",
    "    # print(leaf_name, branch, parent)\n",
    "    node = branch[0]\n",
    "    if len(branch) == 1:  # branch ending with a leaf\n",
    "        leaves = parent.get(node, list())\n",
    "        leaves.append(leaf_name)\n",
    "        parent[node] = leaves\n",
    "    else:\n",
    "        child = parent.get(node, dict())\n",
    "        parent[node] = child\n",
    "        attach(leaf_name, branch[1:], child)\n",
    "        \n",
    "def tree_to_str(tree):\n",
    "    if type(tree) == list:\n",
    "        return str(tree).replace('[', '(').replace(']', ')')\n",
    "    else:\n",
    "        res = '('\n",
    "        for subtree in tree.values():\n",
    "            res += tree_to_str(subtree) + ','\n",
    "        res = res[:-1] + '),'\n",
    "        return res\n",
    "\n",
    "def convert_tree_to_str(tree):\n",
    "    \"\"\" Obtain the tree in the Newick format\"\"\"\n",
    "    tree_str = tree_to_str(tree)\n",
    "    tree_str = tree_str[:-1] + ';'\n",
    "    tree_str = tree_str.replace(\"'\", \"\")\n",
    "    tree_str = tree_str.replace(\",)\", \")\")\n",
    "    while tree_str.find(',,') >= 0:\n",
    "        tree_str = tree_str.replace(\",,\",\",\")\n",
    "    return tree_str"
   ]
  },
  {
   "cell_type": "code",
   "execution_count": 31,
   "metadata": {},
   "outputs": [],
   "source": [
    "tree = {}\n",
    "for leaf_name, branch in root_to_leaves_paths.items():\n",
    "    attach(leaf_name, branch, tree)\n",
    "\n",
    "tree_str = convert_tree_to_str(tree)\n",
    "\n",
    "# print(tree_str) # That is not human-readable anyway. "
   ]
  },
  {
   "cell_type": "markdown",
   "metadata": {},
   "source": [
    "We use ETE toolkit for trees vizualisation. Here is a useful post:\n",
    "https://stackoverflow.com/questions/35490371/how-to-visualize-dendrogram-a-dictionary-of-hierarchical-items"
   ]
  },
  {
   "cell_type": "code",
   "execution_count": 32,
   "metadata": {},
   "outputs": [],
   "source": [
    "# ETE is a common tool for phylogenetic research\n",
    "# http://etetoolkit.org/docs/latest/index.html\n",
    "from ete3 import Tree, TreeStyle, NodeStyle\n",
    "\n",
    "t = Tree(tree_str)\n",
    "ts = TreeStyle()\n",
    "ts.show_leaf_name = True\n",
    "ts.scale =  5 # 120 pixels per branch length unit\n",
    "# ts.rotation = 90\n",
    "\n",
    "# Draws nodes as small red spheres of diameter equal to 0 pixels\n",
    "nstyle = NodeStyle()\n",
    "nstyle[\"size\"] = 0\n",
    "nstyle[\"fgcolor\"] = \"black\"\n",
    "for n in t.traverse():\n",
    "    n.set_style(nstyle)\n",
    "    record = genomes.get(n.name)\n",
    "    if record is not None:\n",
    "        long_name = n.name + ' ' + ' '.join(record.description.split()[1:4])\n",
    "        n.name = long_name.replace(',','').replace('complete','')\n",
    "\n",
    "_ = t.render(\"corona_viruses_tree_76.pdf\", tree_style=ts)\n",
    "_ = t.render(\"corona_viruses_tree_76.png\", tree_style=ts)\n",
    "# t.show()"
   ]
  },
  {
   "cell_type": "markdown",
   "metadata": {},
   "source": [
    "## Appendix: generating *requirements.txt*\n",
    "\n",
    "See https://towardsdatascience.com/generating-a-requirements-file-jupyter-notebook-385f1c315b52 (the last recipe) for obtaining requirements.txt from a Jupyter notebook."
   ]
  }
 ],
 "metadata": {
  "kernelspec": {
   "display_name": "Python 3",
   "language": "python",
   "name": "python3"
  },
  "language_info": {
   "codemirror_mode": {
    "name": "ipython",
    "version": 3
   },
   "file_extension": ".py",
   "mimetype": "text/x-python",
   "name": "python",
   "nbconvert_exporter": "python",
   "pygments_lexer": "ipython3",
   "version": "3.7.6"
  }
 },
 "nbformat": 4,
 "nbformat_minor": 4
}
